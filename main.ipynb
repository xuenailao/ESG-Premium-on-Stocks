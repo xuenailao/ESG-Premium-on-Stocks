{
 "cells": [
  {
   "cell_type": "code",
   "execution_count": 2,
   "metadata": {},
   "outputs": [],
   "source": [
    "import pandas as pd\n",
    "import numpy as np\n",
    "import os\n",
    "import matplotlib.pyplot as plt\n",
    "from matplotlib.font_manager import FontProperties\n",
    "from read_data import DataLoader, DataLoader2\n",
    "from e_score_factor import run_longshort_strategy\n",
    "from fama_french_analysis import perform_rolling_regression\n",
    "from plot_trend import plot_trend_func\n",
    "from reconstruct_portfolio import compute_rolling_betas, calculate_portfolio_returns, calculate_portfolio_returns_by_year, industry_analysis\n",
    "from fama_macbeth import fama_macbeth_regression, analyze_significance\n",
    "from counterfactual import simulate_counterfactual_performance, draw_counterfactual\n",
    "\n",
    "import warnings\n",
    "warnings.filterwarnings(\"ignore\", category=UserWarning, module=\"openpyxl\")\n",
    "# 设置支持中文的字体路径\n",
    "font_path = 'C:/Windows/Fonts/simhei.ttf' \n",
    "font_prop = FontProperties(fname=font_path)\n",
    "\n",
    "# 更新 matplotlib 全局字体设置\n",
    "plt.rcParams['font.family'] = font_prop.get_name()\n",
    "plt.rcParams['axes.unicode_minus'] = False \n",
    "\n",
    "os.chdir('D:\\Quant_JunruWang\\毕业论文代码')\n",
    "loader = DataLoader() # loader用于读取原始数据\n",
    "loader2 = DataLoader2() # loader用于读取处理后数据"
   ]
  },
  {
   "cell_type": "code",
   "execution_count": 3,
   "metadata": {},
   "outputs": [],
   "source": [
    "# 数据准备\n",
    "ff5 = loader.factors('ff5')\n",
    "ff3 = loader.factors('ff3')\n",
    "umd5 = loader.factors('umd5')\n",
    "stk_ret = loader.stock_ret\n",
    "bench = loader.index_close\n",
    "textfactors = loader2.textfactors\n",
    "e_score = loader.e_score\n",
    "mv = loader.market_value\n",
    "industry = loader.industry\n",
    "ccpu = loader.ccpu\n",
    "escore_longshort = loader2.escore_return\n",
    "escore_ret = pd.DataFrame((escore_longshort['chg_short']-escore_longshort['chg_long']+1).cumprod(),columns=['ret'])\n",
    "escore_ret['date'] = escore_longshort['date']\n",
    "\n",
    "ff3['date'] = pd.to_datetime(ff3['date'])\n",
    "ff5['date'] = pd.to_datetime(ff5['date'])\n",
    "umd5['date'] = pd.to_datetime(umd5['date'])\n",
    "factors_ff3 = pd.merge(textfactors, ff3, how='outer', on='date').ffill()\n",
    "factors_ff5 = pd.merge(textfactors, ff5, how='outer', on='date').ffill()\n",
    "factors_umd5 = pd.merge(textfactors, umd5, how='outer', on='date').ffill()"
   ]
  },
  {
   "cell_type": "markdown",
   "metadata": {},
   "source": [
    "### 三、文本因子的构建\n",
    "由于多线程函数的原因，不能在主文件中调用，直接运行news_LDA.py即可。\n",
    "以下用于绘制构建的文本因子走势，输出相关性\n"
   ]
  },
  {
   "cell_type": "code",
   "execution_count": 12,
   "metadata": {},
   "outputs": [],
   "source": [
    "plot_trend_func(textfactors, bench,output_path='输出/文本因子走势.png')\n",
    "\n",
    "all_f_corr = factors_umd5.corr()\n",
    "all_f_corr.to_excel('输出/因子相关性.xlsx')"
   ]
  },
  {
   "cell_type": "markdown",
   "metadata": {},
   "source": [
    "### 四、回归分析\n",
    "#### 4.1 文本因子对Fama-French五因子回归"
   ]
  },
  {
   "cell_type": "code",
   "execution_count": null,
   "metadata": {},
   "outputs": [],
   "source": [
    "perform_rolling_regression(factors_ff5[['碳排放']],\n",
    "                            factors_ff5[['RiskPremium','SMB','HML','RMW','CMA']], \n",
    "                            output_path='输出/FF回归/碳排放_ff5.xlsx')\n",
    "perform_rolling_regression(factors_ff5[['环境监管']],\n",
    "                            factors_ff5[['RiskPremium','SMB','HML','RMW','CMA']], \n",
    "                            output_path='输出/FF回归/环境监管_ff5.xlsx')\n",
    "perform_rolling_regression(factors_ff5[['绿色金融']],\n",
    "                            factors_ff5[['RiskPremium','SMB','HML','RMW','CMA']], \n",
    "                            output_path='输出/FF回归/绿色金融_ff5.xlsx')"
   ]
  },
  {
   "cell_type": "markdown",
   "metadata": {},
   "source": [
    "#### 4.2 FM回归\n",
    "Fama-French三因子、得到文本因子的风险暴露，120天"
   ]
  },
  {
   "cell_type": "code",
   "execution_count": 3,
   "metadata": {},
   "outputs": [
    {
     "name": "stderr",
     "output_type": "stream",
     "text": [
      "滚动回归计算beta: 100%|██████████| 2626/2626 [48:09<00:00,  1.10s/it]\n",
      "滚动回归计算beta: 100%|██████████| 2626/2626 [1:06:07<00:00,  1.51s/it]  \n"
     ]
    }
   ],
   "source": [
    "fm_ff3_betas = loader2.fm_results('ff3','beta')\n",
    "fm_betas = fama_macbeth_regression(ret=stk_ret, factors=factors_ff3, betas=fm_ff3_betas, window=120, output_path='输出/FM回归/ff3')"
   ]
  },
  {
   "cell_type": "markdown",
   "metadata": {},
   "source": [
    "FM回归的统计"
   ]
  },
  {
   "cell_type": "code",
   "execution_count": 5,
   "metadata": {},
   "outputs": [],
   "source": [
    "fm_ff3_result = loader2.fm_results('ff3','result')\n",
    "fm_ff5_result = loader2.fm_results('ff5','result')\n",
    "fm_umd5_result = loader2.fm_results('umd5','result')\n",
    "result1 = analyze_significance(fm_ff3_result)\n",
    "result2 = analyze_significance(fm_ff5_result)\n",
    "result3 = analyze_significance(fm_umd5_result)\n",
    "\n",
    "result1.to_excel('输出/FM回归/ff3/统计结果.xlsx')\n",
    "result2.to_excel('输出/FM回归/ff5/统计结果.xlsx')\n",
    "result3.to_excel('输出/FM回归/umd5/统计结果.xlsx')"
   ]
  },
  {
   "cell_type": "markdown",
   "metadata": {},
   "source": [
    "#### 4.3 多空组合\n"
   ]
  },
  {
   "cell_type": "markdown",
   "metadata": {},
   "source": [
    "4.3.1 E评分多空组合\\\n",
    "第一个代码格计算多空收益\\\n",
    "第二个代码格直接读取存储的收益，然后绘图"
   ]
  },
  {
   "cell_type": "code",
   "execution_count": null,
   "metadata": {},
   "outputs": [],
   "source": [
    "escore_longshort = run_longshort_strategy(e_score, stk_ret, mv)"
   ]
  },
  {
   "cell_type": "code",
   "execution_count": null,
   "metadata": {},
   "outputs": [],
   "source": [
    "ret = pd.DataFrame(escore_longshort['short_cum_ret']-escore_longshort['long_cum_ret'],columns=['ret'])\n",
    "ret['date'] = escore_longshort['date']\n",
    "bench = loader.index_close\n",
    "plot_trend_func(ret, bench,output_path='结果/E评分多空组合.png')"
   ]
  },
  {
   "cell_type": "markdown",
   "metadata": {},
   "source": [
    "4.3.2 文本因子多空组合\n",
    "\n",
    "多窗口测试，绘制收益图"
   ]
  },
  {
   "cell_type": "code",
   "execution_count": null,
   "metadata": {},
   "outputs": [],
   "source": [
    "for days in [120, 240, 360, 720, 1200]:\n",
    "    betas = loader2.betas(days)\n",
    "    portfolio_returns = calculate_portfolio_returns(\n",
    "        ret=stk_ret,\n",
    "        beta_df=betas,\n",
    "        freq=days\n",
    "    )\n",
    "    cum_ret = (portfolio_returns+1).cumprod()\n",
    "    plot_trend_func(cum_ret, escore_ret, rows=1, cols=3, output_path=f'输出/组合beta/组合收益_{days}天.png')"
   ]
  },
  {
   "cell_type": "markdown",
   "metadata": {},
   "source": [
    "行业分析，选取的公司，E评分是否符合“高污染绿色度低”\n"
   ]
  },
  {
   "cell_type": "code",
   "execution_count": null,
   "metadata": {},
   "outputs": [],
   "source": [
    "weights = loader2.weights\n",
    "industry_analysis(weights, industry)"
   ]
  },
  {
   "cell_type": "markdown",
   "metadata": {},
   "source": [
    "### 五、稳健性分析\n",
    "5.1 在各个窗口下，测试大市值、小市值各自的多空表现"
   ]
  },
  {
   "cell_type": "code",
   "execution_count": null,
   "metadata": {},
   "outputs": [],
   "source": [
    "for days in [120, 240, 360, 720, 1200]:\n",
    "    betas = loader2.betas(days)\n",
    "    l_ret, h_ret = calculate_portfolio_returns_by_year(ret=stk_ret, beta_df=betas, market_value=mv)\n",
    "\n",
    "    cum_l_ret = (l_ret+1).cumprod()\n",
    "    cum_h_ret = (h_ret+1).cumprod()\n",
    "\n",
    "    plot_trend_func(cum_l_ret, escore_ret, rows=1, cols=3, output_path=f'输出/组合beta/低市值组合收益_{days}.png')\n",
    "    plot_trend_func(cum_h_ret, escore_ret, rows=1, cols=3, output_path=f'输出/组合beta/高市值组合收益_{days}.png')\n"
   ]
  },
  {
   "cell_type": "markdown",
   "metadata": {},
   "source": [
    "5.2 更换FM回归的模型"
   ]
  },
  {
   "cell_type": "code",
   "execution_count": null,
   "metadata": {},
   "outputs": [],
   "source": [
    "fm_betas = fama_macbeth_regression(ret=stk_ret, factors=factors_ff5, window=120, output_path='输出/FM回归/ff5')\n",
    "fm_betas = fama_macbeth_regression(ret=stk_ret, factors=factors_umd5, window=120, output_path='输出/FM回归/umd5')"
   ]
  },
  {
   "cell_type": "markdown",
   "metadata": {},
   "source": [
    "5.3 FM回归更换数据来源：CCPU\n",
    "China Climate Policy Uncertainty\n",
    "使用ccpu对文本因子回归，取残差，观察fm回归结果"
   ]
  },
  {
   "cell_type": "code",
   "execution_count": 12,
   "metadata": {},
   "outputs": [
    {
     "name": "stderr",
     "output_type": "stream",
     "text": [
      "滚动回归计算beta: 100%|██████████| 1004/1004 [23:44<00:00,  1.42s/it]\n"
     ]
    }
   ],
   "source": [
    "import statsmodels.api as sm\n",
    "ccpu_umd5 = ccpu.merge(umd5, how='inner', on='date').set_index('date')\n",
    "fm_results = fama_macbeth_regression(ret=stk_ret, factors=ccpu_umd5, window=120, output_path='输出/FM回归/ccpu+umd5')"
   ]
  },
  {
   "cell_type": "code",
   "execution_count": 4,
   "metadata": {},
   "outputs": [],
   "source": [
    "fm_ccpuumd5_result = pd.read_excel('输出/FM回归/ccpu+umd5/回归结果.xlsx')\n",
    "result4 = analyze_significance(fm_ccpuumd5_result)\n",
    "\n",
    "result4.to_excel('输出/FM回归/ccpu+umd5/统计结果.xlsx')"
   ]
  },
  {
   "cell_type": "markdown",
   "metadata": {},
   "source": [
    "5.4 FM回归更换模型：更换包含UMD的五因子\\\n",
    "4.2已经写入"
   ]
  },
  {
   "cell_type": "markdown",
   "metadata": {},
   "source": [
    "### 六、反事实分析"
   ]
  },
  {
   "cell_type": "code",
   "execution_count": null,
   "metadata": {},
   "outputs": [],
   "source": [
    "ret = pd.read_excel('输出/组合beta/组合收益_240天.xlsx')\n",
    "data = factors_ff3.merge(ret, how='inner', on='date',suffixes=('_因子', '_收益'))\n",
    "results = simulate_counterfactual_performance(data, '碳排放_收益', ['碳排放_因子'],\n",
    "                                              'date' )\n",
    "\n",
    "draw_counterfactual(results, output_path='输出/反事实表现.png')\n"
   ]
  }
 ],
 "metadata": {
  "kernelspec": {
   "display_name": "base",
   "language": "python",
   "name": "python3"
  },
  "language_info": {
   "codemirror_mode": {
    "name": "ipython",
    "version": 3
   },
   "file_extension": ".py",
   "mimetype": "text/x-python",
   "name": "python",
   "nbconvert_exporter": "python",
   "pygments_lexer": "ipython3",
   "version": "3.10.11"
  }
 },
 "nbformat": 4,
 "nbformat_minor": 2
}
